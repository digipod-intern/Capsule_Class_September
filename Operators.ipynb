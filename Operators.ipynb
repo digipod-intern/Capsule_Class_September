{
 "cells": [
  {
   "cell_type": "markdown",
   "metadata": {},
   "source": [
    "# Operators\n",
    "\n",
    "* Arithmetic Operators\n",
    "* Comparison (Relational) Operators\n",
    "* Assignment Operators\n",
    "* Logical Operators\n",
    "* Membership Operators\n",
    "* Identity Operators"
   ]
  },
  {
   "cell_type": "markdown",
   "metadata": {},
   "source": [
    "# Arithmetic Operators\n",
    "* + Addition - Adds values on either side of the operator\n",
    "* - Subtraction - Subtracts right hand operand from left hand operand\n",
    "* * Multiplication - Multiplies values on either side of the operator\n",
    "* / Division - Divides left hand operand by right hand operand\n",
    "* % Modulus - Divides left hand operand by right hand operand and returns remainder\n",
    "* ** Exponent - Performs exponential (power) calculation on operators\n",
    "* // Floor division - The division of operands where the result is the quotient in which the digits after the decimal point are removed."
   ]
  },
  {
   "cell_type": "code",
   "execution_count": 3,
   "metadata": {},
   "outputs": [
    {
     "name": "stdout",
     "output_type": "stream",
     "text": [
      "Area is 120 square units\n"
     ]
    }
   ],
   "source": [
    "length = int(input(\"Enter the length: \"))\n",
    "breadth = int(input(\"Eter the breadth: \"))\n",
    "area = length * breadth # Calclulate the area of rectangle and store it in area variable\n",
    "print(\"Area is\", area, \"square units\")"
   ]
  },
  {
   "cell_type": "markdown",
   "metadata": {},
   "source": [
    "# Write a program to calculate the area of a triangle"
   ]
  },
  {
   "cell_type": "code",
   "execution_count": 4,
   "metadata": {},
   "outputs": [
    {
     "name": "stdout",
     "output_type": "stream",
     "text": [
      "Area is 60.0 square units\n"
     ]
    }
   ],
   "source": [
    "base = int(input(\"Enter the base: \"))\n",
    "height = int(input(\"Enter the height: \"))\n",
    "\n",
    "area = 0.5 * base * height # Calculate the area of triangle and store it in area variable\n",
    "print(\"Area is\", area, \"square units\")"
   ]
  },
  {
   "cell_type": "markdown",
   "metadata": {},
   "source": [
    "# Write a program to calculate the primeter of rectangle"
   ]
  },
  {
   "cell_type": "code",
   "execution_count": 6,
   "metadata": {},
   "outputs": [
    {
     "name": "stdout",
     "output_type": "stream",
     "text": [
      "Perimeter is 44 units\n"
     ]
    }
   ],
   "source": [
    "length = int(input(\"Enter the length: \"))\n",
    "breadth = int(input(\"Enter the breadth: \"))\n",
    "\n",
    "perimeter = 2*(length + breadth) # Calculate the perimeter of rectangle and store it in perimeter variable\n",
    "print(\"Perimeter is\", perimeter, \"units\")"
   ]
  },
  {
   "cell_type": "markdown",
   "metadata": {},
   "source": [
    "# Write a program to calculate the profit percentage"
   ]
  },
  {
   "cell_type": "code",
   "execution_count": null,
   "metadata": {},
   "outputs": [],
   "source": [
    "costPrice = float(input(\"Enter cost price of the product: \"))\n",
    "sellingPrice = float(input(\"Enter selling price of the product: \"))\n",
    "\n",
    "profit = sellingPrice - costPrice # Calculate profit and store it in profit variable\n",
    "profitPercentage = (profit/costPrice) * 100 # Calculate profit percentage and store it in profitPercentage variable\n",
    "\n",
    "print(\"Profit is\", profit, \"and profit percentage is\", profitPercentage, \"%\")"
   ]
  },
  {
   "cell_type": "markdown",
   "metadata": {},
   "source": [
    "# Relational Operators\n",
    "* == If the values of two operands are equal, then the condition becomes true.\n",
    "* != If values of two operands are not equal, then condition becomes true.\n",
    "* *> If the value of left operand is greater than the value of right operand, then condition becomes true.\n",
    "* < If the value of left operand is less than the value of right operand, then condition becomes true.\n",
    "* *>= If the value of left operand is greater than or equal to the value of right operand, then condition becomes true.\n",
    "* <= If the value of left operand is less than or equal to the value of right operand, then condition becomes true.\n",
    "\n",
    "Note: It always returns 0 or 1 i.e. False or True respectively."
   ]
  },
  {
   "cell_type": "code",
   "execution_count": 2,
   "metadata": {},
   "outputs": [
    {
     "name": "stdout",
     "output_type": "stream",
     "text": [
      "True\n",
      "False\n",
      "False\n",
      "False\n",
      "True\n",
      "True\n"
     ]
    }
   ],
   "source": [
    "a = 10\n",
    "b = 10\n",
    "\n",
    "print(a == b)\n",
    "print(a != b)\n",
    "print(a > b)\n",
    "print(a < b)\n",
    "print(a >= b)\n",
    "print(a <= b)"
   ]
  },
  {
   "cell_type": "markdown",
   "metadata": {},
   "source": [
    "# Logical Operators\n",
    "* and Logical AND - If both the operands are true then condition becomes true.\n",
    "* or Logical OR - If any of the two operands are non-zero then condition becomes true.\n",
    "* not Logical NOT - Used to reverse the logical state of its operand.\n",
    "\n",
    "Note: It will return true and false if it is used with comparision operators but it will return the value of operand if it is used with assignment operators."
   ]
  },
  {
   "cell_type": "code",
   "execution_count": 3,
   "metadata": {},
   "outputs": [
    {
     "name": "stdout",
     "output_type": "stream",
     "text": [
      "5\n",
      "10\n",
      "False\n"
     ]
    }
   ],
   "source": [
    "a = 10\n",
    "b = 5\n",
    "\n",
    "print(a and b)\n",
    "print(a or b)\n",
    "print(not a)"
   ]
  },
  {
   "cell_type": "markdown",
   "metadata": {},
   "source": [
    "# Membership Operators\n",
    "* in - Evaluates to true if it finds a variable in the specified sequence and false otherwise.\n",
    "* not in - Evaluates to true if it does not finds a variable in the specified sequence and false otherwise."
   ]
  },
  {
   "cell_type": "code",
   "execution_count": 14,
   "metadata": {},
   "outputs": [
    {
     "name": "stdout",
     "output_type": "stream",
     "text": [
      "a is not in list\n"
     ]
    }
   ],
   "source": [
    "\n",
    "a = \"N\"\n",
    "\n",
    "if (a in b):\n",
    "    print(\"a is in list\")\n",
    "else:\n",
    "    print(\"a is not in list\")"
   ]
  },
  {
   "cell_type": "markdown",
   "metadata": {},
   "source": [
    "# Identity Operators\n",
    "* is - Evaluates to true if the variables on either side of the operator point to the same object and false otherwise.\n",
    "* is not - Evaluates to false if the variables on either side of the operator point to the same object and true otherwise."
   ]
  },
  {
   "cell_type": "code",
   "execution_count": 15,
   "metadata": {},
   "outputs": [
    {
     "name": "stdout",
     "output_type": "stream",
     "text": [
      "a and b have same identity\n"
     ]
    }
   ],
   "source": [
    "a = 1\n",
    "b = [1, 2, 3]\n",
    "\n",
    "if (a is b[0]):\n",
    "    print(\"a and b have same identity\")\n",
    "else:\n",
    "    print(\"a and b has not same identity\")"
   ]
  },
  {
   "cell_type": "code",
   "execution_count": null,
   "metadata": {},
   "outputs": [],
   "source": []
  }
 ],
 "metadata": {
  "kernelspec": {
   "display_name": "base",
   "language": "python",
   "name": "python3"
  },
  "language_info": {
   "codemirror_mode": {
    "name": "ipython",
    "version": 3
   },
   "file_extension": ".py",
   "mimetype": "text/x-python",
   "name": "python",
   "nbconvert_exporter": "python",
   "pygments_lexer": "ipython3",
   "version": "3.10.9"
  },
  "orig_nbformat": 4
 },
 "nbformat": 4,
 "nbformat_minor": 2
}
