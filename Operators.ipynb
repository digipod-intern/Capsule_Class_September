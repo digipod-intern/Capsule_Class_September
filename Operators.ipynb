{
 "cells": [
  {
   "cell_type": "markdown",
   "metadata": {},
   "source": [
    "# Operators\n",
    "\n",
    "* Arithmetic Operators\n",
    "* Comparison (Relational) Operators\n",
    "* Assignment Operators\n",
    "* Logical Operators\n",
    "* Membership Operators\n",
    "* Identity Operators"
   ]
  },
  {
   "cell_type": "markdown",
   "metadata": {},
   "source": [
    "# Arithmetic Operators\n",
    "* + Addition - Adds values on either side of the operator\n",
    "* - Subtraction - Subtracts right hand operand from left hand operand\n",
    "* * Multiplication - Multiplies values on either side of the operator\n",
    "* / Division - Divides left hand operand by right hand operand\n",
    "* % Modulus - Divides left hand operand by right hand operand and returns remainder\n",
    "* ** Exponent - Performs exponential (power) calculation on operators\n",
    "* // Floor division - The division of operands where the result is the quotient in which the digits after the decimal point are removed."
   ]
  },
  {
   "cell_type": "code",
   "execution_count": 3,
   "metadata": {},
   "outputs": [
    {
     "name": "stdout",
     "output_type": "stream",
     "text": [
      "Area is 120 square units\n"
     ]
    }
   ],
   "source": [
    "length = int(input(\"Enter the length: \"))\n",
    "breadth = int(input(\"Eter the breadth: \"))\n",
    "area = length * breadth # Calclulate the area of rectangle and store it in area variable\n",
    "print(\"Area is\", area, \"square units\")"
   ]
  },
  {
   "cell_type": "markdown",
   "metadata": {},
   "source": [
    "# Write a program to calculate the area of a triangle"
   ]
  },
  {
   "cell_type": "code",
   "execution_count": 4,
   "metadata": {},
   "outputs": [
    {
     "name": "stdout",
     "output_type": "stream",
     "text": [
      "Area is 60.0 square units\n"
     ]
    }
   ],
   "source": [
    "base = int(input(\"Enter the base: \"))\n",
    "height = int(input(\"Enter the height: \"))\n",
    "\n",
    "area = 0.5 * base * height # Calculate the area of triangle and store it in area variable\n",
    "print(\"Area is\", area, \"square units\")"
   ]
  },
  {
   "cell_type": "markdown",
   "metadata": {},
   "source": [
    "# Write a program to calculate the primeter of rectangle"
   ]
  },
  {
   "cell_type": "code",
   "execution_count": 6,
   "metadata": {},
   "outputs": [
    {
     "name": "stdout",
     "output_type": "stream",
     "text": [
      "Perimeter is 44 units\n"
     ]
    }
   ],
   "source": [
    "length = int(input(\"Enter the length: \"))\n",
    "breadth = int(input(\"Enter the breadth: \"))\n",
    "\n",
    "perimeter = 2*(length + breadth) # Calculate the perimeter of rectangle and store it in perimeter variable\n",
    "print(\"Perimeter is\", perimeter, \"units\")"
   ]
  },
  {
   "cell_type": "markdown",
   "metadata": {},
   "source": [
    "# Write a program to calculate the profit percentage"
   ]
  },
  {
   "cell_type": "code",
   "execution_count": null,
   "metadata": {},
   "outputs": [],
   "source": [
    "costPrice = float(input(\"Enter cost price of the product: \"))\n",
    "sellingPrice = float(input(\"Enter selling price of the product: \"))\n",
    "\n",
    "profit = sellingPrice - costPrice # Calculate profit and store it in profit variable\n",
    "profitPercentage = (profit/costPrice) * 100 # Calculate profit percentage and store it in profitPercentage variable\n",
    "\n",
    "print(\"Profit is\", profit, \"and profit percentage is\", profitPercentage, \"%\")"
   ]
  }
 ],
 "metadata": {
  "kernelspec": {
   "display_name": "base",
   "language": "python",
   "name": "python3"
  },
  "language_info": {
   "codemirror_mode": {
    "name": "ipython",
    "version": 3
   },
   "file_extension": ".py",
   "mimetype": "text/x-python",
   "name": "python",
   "nbconvert_exporter": "python",
   "pygments_lexer": "ipython3",
   "version": "3.10.9"
  },
  "orig_nbformat": 4
 },
 "nbformat": 4,
 "nbformat_minor": 2
}
