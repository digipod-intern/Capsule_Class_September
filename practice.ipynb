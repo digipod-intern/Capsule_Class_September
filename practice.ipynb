{
 "cells": [
  {
   "cell_type": "markdown",
   "metadata": {},
   "source": [
    "* Write a program to check whether a number is even or odd."
   ]
  },
  {
   "cell_type": "code",
   "execution_count": null,
   "metadata": {},
   "outputs": [],
   "source": [
    "num = int(input(\"Enter a number: \"))\n",
    "if num % 2 == 0:\n",
    "    print(\"Even\")\n",
    "else:\n",
    "    print(\"Odd\")"
   ]
  },
  {
   "cell_type": "markdown",
   "metadata": {},
   "source": [
    "* Write a program to check wherether a number is positive or negative.\n",
    "* Write a program to check whether the shopkeeper had profit or loss.\n",
    "* Write a program to check whether an entered alphabet is vowel or consonant.\n",
    "\n",
    "* Write a program to find the largest among three numbers and print the largest number.\n",
    "\n",
    "* Write a program to check whether a year is leap year or not.\n",
    "\n",
    "* Write a program to check whether a character is alphabet or not."
   ]
  },
  {
   "cell_type": "code",
   "execution_count": null,
   "metadata": {},
   "outputs": [],
   "source": [
    "num = int(input(\"Enter a number: \"))\n",
    "if num > 0:\n",
    "    print(\"Positive\")\n",
    "elif num < 0:\n",
    "    print(\"Negative\")\n",
    "else:\n",
    "    print(\"Zero\")"
   ]
  },
  {
   "cell_type": "code",
   "execution_count": 10,
   "metadata": {},
   "outputs": [
    {
     "name": "stdout",
     "output_type": "stream",
     "text": [
      "Consonant\n"
     ]
    }
   ],
   "source": [
    "alphabet = input(\"Enter a character: \")\n",
    "if alphabet == 'a' or alphabet == 'e' or alphabet == 'i' or alphabet == 'o' or alphabet == 'u' or alphabet == 'A' or alphabet == 'E' or alphabet == 'I' or alphabet == 'O' or alphabet == 'U':\n",
    "    print(\"Vowel\")\n",
    "else:\n",
    "    print(\"Consonant\")"
   ]
  },
  {
   "cell_type": "code",
   "execution_count": 9,
   "metadata": {},
   "outputs": [
    {
     "name": "stdout",
     "output_type": "stream",
     "text": [
      "30\n"
     ]
    }
   ],
   "source": [
    "a = int(input(\"Enter a number: \"))\n",
    "b = int(input(\"Enter a number: \"))\n",
    "c = int(input(\"Enter a number: \"))\n",
    "\n",
    "if a > b and a > c:\n",
    "    print(a)\n",
    "elif b > a and b > c:\n",
    "    print(b)\n",
    "else:\n",
    "    print(c)"
   ]
  },
  {
   "cell_type": "code",
   "execution_count": null,
   "metadata": {},
   "outputs": [],
   "source": [
    "year = int(input(\"Enter year: \"))\n",
    "if year % 400: \n",
    "    print(\"Leap year\")\n",
    "elif year % 100:\n",
    "    print(\"Not a Leap year\")\n",
    "elif year % 4:\n",
    "    print(\"Leap year\")\n",
    "else:\n",
    "    print(\"Not a Leap year\")"
   ]
  },
  {
   "cell_type": "markdown",
   "metadata": {},
   "source": [
    "# Write a program to check whether number comes in which range. \n",
    "* For Example: num = 5\n",
    "    * Range = 1 to 10\n",
    "    * Output: 5 is in range of 1 to 10\n",
    "    \n",
    "    * num = 12\n",
    "    * Range = 11 to 20\n",
    "    * Output: 12 is in range of 11 to 20\n",
    "\n",
    "    * num = 24 \n",
    "    * Output: 24 is not in range of 1 to 10 and 11 to 20"
   ]
  },
  {
   "cell_type": "markdown",
   "metadata": {},
   "source": [
    "#### Write a program to accept the number from 1 to 7 and display the name of the day like 1 for Sunday, 2 for Monday and so on."
   ]
  },
  {
   "cell_type": "code",
   "execution_count": 2,
   "metadata": {},
   "outputs": [
    {
     "name": "stdout",
     "output_type": "stream",
     "text": [
      "Sunday\n"
     ]
    }
   ],
   "source": [
    "num = int(input(\"Enter a number: \"))\n",
    "match num:\n",
    "    case 1:\n",
    "        print(\"Sunday\")\n",
    "    case 2:\n",
    "        print(\"Monday\")\n",
    "    case 3:\n",
    "        print(\"Tuesday\")\n",
    "    case 4:\n",
    "        print(\"Wednesday\")\n",
    "    case 5:\n",
    "        print(\"Thursday\")\n",
    "    case 6:\n",
    "        print(\"Friday\")\n",
    "    case 7:\n",
    "        print(\"Saturday\")\n",
    "    case _:\n",
    "        print(\"Invalid day\")"
   ]
  },
  {
   "cell_type": "code",
   "execution_count": 2,
   "metadata": {},
   "outputs": [
    {
     "name": "stdout",
     "output_type": "stream",
     "text": [
      "Student is allowed to sit in exam\n"
     ]
    }
   ],
   "source": [
    "total_working_days = int(input(\"Enter total working days: \"))\n",
    "total_absence_days = int(input(\"Enter total absence days: \"))\n",
    "\n",
    "percentage_of_working_days = ((total_working_days - total_absence_days)/total_working_days) * 100\n",
    "match percentage_of_working_days >= 75:\n",
    "    case True:\n",
    "        print(\"Student is allowed to sit in exam\")\n",
    "    case False:\n",
    "        print(\"Student is not allowed to sit in exam\")"
   ]
  },
  {
   "cell_type": "code",
   "execution_count": 1,
   "metadata": {},
   "outputs": [
    {
     "name": "stdout",
     "output_type": "stream",
     "text": [
      "Area of Rectangle is 180\n"
     ]
    }
   ],
   "source": [
    "shape = input(\"Enter shape: \")\n",
    "match shape:\n",
    "    case \"Triangle\":\n",
    "        base = int(input(\"Enter base: \"))\n",
    "        height = int(input(\"Enter height: \"))\n",
    "\n",
    "        area = 0.5 * base * height\n",
    "\n",
    "    case \"Rectangle\":\n",
    "        length = int(input(\"Enter length: \"))\n",
    "        breadth = int(input(\"Enter breadth: \"))\n",
    "\n",
    "        area = length * breadth\n",
    "\n",
    "    case \"Square\":\n",
    "        side = int(input(\"Enter side: \"))\n",
    "\n",
    "        area = side * side\n",
    "    case \"Circle\":\n",
    "        radius = int(input(\"Enter radius: \"))\n",
    "\n",
    "        area = 3.14 * radius * radius\n",
    "    case _:\n",
    "        print(\"Invalid shape\")\n",
    "\n",
    "print(\"Area of\", shape, \"is\", area)"
   ]
  },
  {
   "cell_type": "code",
   "execution_count": null,
   "metadata": {},
   "outputs": [],
   "source": []
  }
 ],
 "metadata": {
  "kernelspec": {
   "display_name": "base",
   "language": "python",
   "name": "python3"
  },
  "language_info": {
   "codemirror_mode": {
    "name": "ipython",
    "version": 3
   },
   "file_extension": ".py",
   "mimetype": "text/x-python",
   "name": "python",
   "nbconvert_exporter": "python",
   "pygments_lexer": "ipython3",
   "version": "3.10.9"
  },
  "orig_nbformat": 4
 },
 "nbformat": 4,
 "nbformat_minor": 2
}
