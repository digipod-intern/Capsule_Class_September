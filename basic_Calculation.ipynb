{
 "cells": [
  {
   "cell_type": "markdown",
   "metadata": {},
   "source": [
    "# Algorithm to calculate basic calculation of the users input.\n",
    "* Start the program.\n",
    "* Ask the user to input the first number.\n",
    "* Ask the user to input the second number.\n",
    "* Calculate the sum of the two numbers.\n",
    "* Calculate the difference of the two numbers.\n",
    "* Calculate the product of the two numbers.\n",
    "* Calculate the quotient of the two numbers.\n",
    "* Calculate the remainder of two numbers.\n",
    "* Calculate the floor divisoin of two numbers.\n",
    "* Calculate the exponent of two numbers.\n",
    "* Print the sum, difference, product, quotient, remainder, floor division and exponent of the two numbers.\n",
    "* Stop the program."
   ]
  },
  {
   "cell_type": "code",
   "execution_count": 1,
   "metadata": {},
   "outputs": [
    {
     "name": "stdout",
     "output_type": "stream",
     "text": [
      "Addition of two numbers is:  25\n",
      "Subtraction of two numbers is:  15\n",
      "Multiplication of two numbers is:  100\n",
      "Division of two numbers is:  4.0\n",
      "Modulus of two numbers is:  0\n",
      "Floor division of two numbers is:  4\n",
      "Exponent of two numbers is:  3200000\n"
     ]
    }
   ],
   "source": [
    "x = int(input(\"Enter the first number: \"))\n",
    "y = int(input(\"Enter the second number: \"))\n",
    "\n",
    "add = x + y\n",
    "sub = x - y\n",
    "mul = x * y\n",
    "div = x / y\n",
    "mod = x % y\n",
    "floor = x//y\n",
    "exp = x**y\n",
    "\n",
    "print(\"Addition of two numbers is: \", add)\n",
    "print(\"Subtraction of two numbers is: \", sub)\n",
    "print(\"Multiplication of two numbers is: \", mul)\n",
    "print(\"Division of two numbers is: \", div)\n",
    "print(\"Modulus of two numbers is: \", mod)\n",
    "print(\"Floor division of two numbers is: \", floor)\n",
    "print(\"Exponent of two numbers is: \", exp)"
   ]
  },
  {
   "cell_type": "code",
   "execution_count": null,
   "metadata": {},
   "outputs": [],
   "source": []
  }
 ],
 "metadata": {
  "kernelspec": {
   "display_name": "base",
   "language": "python",
   "name": "python3"
  },
  "language_info": {
   "codemirror_mode": {
    "name": "ipython",
    "version": 3
   },
   "file_extension": ".py",
   "mimetype": "text/x-python",
   "name": "python",
   "nbconvert_exporter": "python",
   "pygments_lexer": "ipython3",
   "version": "3.10.9"
  },
  "orig_nbformat": 4
 },
 "nbformat": 4,
 "nbformat_minor": 2
}
