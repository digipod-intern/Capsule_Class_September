{
 "cells": [
  {
   "cell_type": "markdown",
   "metadata": {},
   "source": [
    "# Conditionals\n",
    "* if-else\n",
    "    * normal if-else : It is used when we have only two states to check.\n",
    "    * if-elif-else : It is used when we have more than two states to check.\n",
    "    * nested if-else : It is used when we have to check a condition inside a condition.\n",
    "* match-case"
   ]
  },
  {
   "cell_type": "code",
   "execution_count": 5,
   "metadata": {},
   "outputs": [
    {
     "name": "stdout",
     "output_type": "stream",
     "text": [
      "We will have a windy day\n"
     ]
    }
   ],
   "source": [
    "weather_condition_1 = \"sunny\"\n",
    "weather_condition_2 = \"windy\"\n",
    "\n",
    "if weather_condition_1 == \"sunny\":\n",
    "    if weather_condition_2 == \"rainy\":\n",
    "        print(\"We will have a rainbow\")\n",
    "    else:\n",
    "        print(\"We will have a windy day\")\n",
    "else:\n",
    "    print(\"We will have a drop in temperature\")"
   ]
  },
  {
   "cell_type": "code",
   "execution_count": 11,
   "metadata": {},
   "outputs": [
    {
     "name": "stdout",
     "output_type": "stream",
     "text": [
      "Welcome to the system\n"
     ]
    }
   ],
   "source": [
    "username = input(\"Enter your username: \")\n",
    "password = input(\"Enter your password: \")\n",
    "\n",
    "if username == \"admin\":\n",
    "    if password == \"admin\":\n",
    "        print(\"Welcome to the system\")\n",
    "    else:\n",
    "        print(\"Invalid password\")\n",
    "else:\n",
    "    print(\"Invalid username\")"
   ]
  },
  {
   "cell_type": "code",
   "execution_count": 13,
   "metadata": {},
   "outputs": [
    {
     "name": "stdout",
     "output_type": "stream",
     "text": [
      "Welcome to the system\n"
     ]
    }
   ],
   "source": [
    "username = input(\"Enter your username: \")\n",
    "password = input(\"Enter your password: \")\n",
    "\n",
    "if username == \"admin\" and password == \"admin\":\n",
    "    print(\"Welcome to the system\")\n",
    "else:\n",
    "    print(\"Invalid username or password\")"
   ]
  },
  {
   "cell_type": "markdown",
   "metadata": {},
   "source": [
    "# Match-case: \n",
    "* It is used to check multiple conditions in a single line.\n",
    "* It is similar to switch-case in other languages.\n",
    "* It is also used as an alternative to if-elif-else."
   ]
  },
  {
   "cell_type": "markdown",
   "metadata": {},
   "source": [
    "# Write a program to check whether a number is positive, negative or zero."
   ]
  },
  {
   "cell_type": "code",
   "execution_count": 6,
   "metadata": {},
   "outputs": [],
   "source": [
    "num = input(\"Enter a number: \")\n",
    "\n",
    "match num: \n",
    "    case '1':\n",
    "        print(\"One\")\n",
    "    case '2':\n",
    "        print(\"Two\")\n",
    "    case '3':\n",
    "        print(\"Three\")\n",
    "    case _:\n",
    "        print(\"Invalid number\")"
   ]
  },
  {
   "cell_type": "code",
   "execution_count": 3,
   "metadata": {},
   "outputs": [
    {
     "name": "stdout",
     "output_type": "stream",
     "text": [
      "Positive\n"
     ]
    }
   ],
   "source": [
    "num = int(input(\"Enter a number: \"))\n",
    "match num>0:\n",
    "    case True:\n",
    "        print(\"Positive\")\n",
    "    case False:\n",
    "        print(\"Negative\")\n",
    "    case _:\n",
    "        print(\"Zero\" )"
   ]
  },
  {
   "cell_type": "markdown",
   "metadata": {},
   "source": [
    "### Write a program to give output of the animal voice according to the animal name given by the user."
   ]
  },
  {
   "cell_type": "code",
   "execution_count": 7,
   "metadata": {},
   "outputs": [
    {
     "name": "stdout",
     "output_type": "stream",
     "text": [
      "Snap Snap 🐊\n"
     ]
    }
   ],
   "source": [
    "animal_name = input(\"Enter an animal name (Write in small letter): \")\n",
    "match animal_name:\n",
    "    case \"cat\":\n",
    "        print(\"Meow Meow 😺\")\n",
    "    case \"dog\":\n",
    "        print(\"Baow Baow 🐶\")\n",
    "    case \"cow\":\n",
    "        print(\"Moo Moo 🐮\")\n",
    "    case \"lion\":\n",
    "        print(\"Roar Roar 🦁\")\n",
    "    case \"goat\":\n",
    "        print(\"Maa Maa 🐐\")\n",
    "    case \"tiger\":\n",
    "        print(\"Growl Growl 🐅\")\n",
    "    case \"monkey\":\n",
    "        print(\"Ooh Ooh 🐒\")\n",
    "    case \"elephant\":\n",
    "        print(\"Trumpet Trumpet 🐘\")\n",
    "    case \"horse\":\n",
    "        print(\"Neigh Neigh 🐎\")\n",
    "    case \"donkey\":\n",
    "        print(\"Hee Haw 🐴\")\n",
    "    case \"pig\":\n",
    "        print(\"Oink Oink 🐷\")\n",
    "    case \"sheep\":\n",
    "        print(\"Baa Baa 🐑\")\n",
    "    case \"fox\":\n",
    "        print(\"Ring-ding-ding-ding-dingeringeding 🦊\")\n",
    "    case \"wolf\":\n",
    "        print(\"Awooo 🐺\")\n",
    "    case \"bear\":\n",
    "        print(\"Roar 🐻\")\n",
    "    case \"deer\":\n",
    "        print(\"Bleat 🦌\")\n",
    "    case \"rabbit\":\n",
    "        print(\"Squeak 🐰\")\n",
    "    case \"mouse\":\n",
    "        print(\"Squeak 🐭\")\n",
    "    case \"snake\":\n",
    "        print(\"Hiss 🐍\")\n",
    "    case \"frog\":\n",
    "        print(\"Ribbit 🐸\")\n",
    "    case \"crocodile\":\n",
    "        print(\"Snap Snap 🐊\")\n",
    "    case \"turtle\":\n",
    "        print(\"Snap Snap 🐢\")\n",
    "    case \"dolphin\":\n",
    "        print(\"Click Click 🐬\")\n",
    "    case \"duck\":\n",
    "        print(\"Quack Quack 🦆\")\n",
    "    case \"chicken\":\n",
    "        print(\"Cluck Cluck 🐔\")\n",
    "    case \"penguin\":\n",
    "        print(\"Honk Honk 🐧\")\n",
    "    case \"parrot\":\n",
    "        print(\"Squawk Squawk 🦜\")\n",
    "    case \"owl\":\n",
    "        print(\"Hoot Hoot 🦉\")\n",
    "    case \"eagle\":\n",
    "        print(\"Screech Screech 🦅\")\n",
    "    case \"sparrow\":\n",
    "        print(\"Chirp Chirp 🐦\")\n",
    "    case \"peacock\":\n",
    "        print(\"Scream Scream 🦚\")\n",
    "    case \"swan\":\n",
    "        print(\"Honk Honk 🦢\")\n",
    "    case \"flamingo\":\n",
    "        print(\"Honk Honk 🦩\")\n",
    "    case \"crab\":\n",
    "        print(\"Click Click 🦀\")\n",
    "    case \"lobster\":\n",
    "        print(\"Click Click 🦞\")\n",
    "    case \"octopus\":\n",
    "        print(\"Squirt Squirt 🐙\")\n",
    "    case \"shrimp\":\n",
    "        print(\"Click Click 🦐\")\n",
    "    case \"starfish\":\n",
    "        print(\"Click Click 🌟\")\n",
    "    case \"snail\":\n",
    "        print(\"Slurp Slurp 🐌\")\n",
    "    case \"butterfly\":\n",
    "        print(\"Flutter Flutter 🦋\")\n",
    "    case \"bee\":\n",
    "        print(\"Buzz Buzz 🐝\")\n",
    "    case \"ant\":\n",
    "        print(\"Click Click 🐜\")\n",
    "    case \"ladybug\":\n",
    "        print(\"Click Click 🐞\")\n",
    "    case \"spider\":\n",
    "        print(\"Click Click 🕷️\")\n",
    "    case \"scorpion\":\n",
    "        print(\"Click Click 🦂\")\n",
    "    case \"grasshopper\":\n",
    "        print(\"Click Click 🦗\")\n",
    "    case \"cricket\":\n",
    "        print(\"Click Click 🦗\")\n",
    "    case \"dragonfly\":\n",
    "        print(\"Click Click 🐉\")\n",
    "    case \"mosquito\":\n",
    "        print(\"Buzz Buzz 🦟\")\n",
    "    case \"fly\":\n",
    "        print(\"Buzz Buzz 🪰\")\n",
    "    case \"beetle\":\n",
    "        print(\"Click Click 🪲\")\n",
    "    case \"caterpillar\":\n",
    "        print(\"Click Click 🐛\")\n",
    "    case \"centipede\":\n",
    "        print(\"Click Click 🐛\")\n",
    "    case \"earthworm\":\n",
    "        print(\"Click Click 🪱\")\n",
    "    case \"slug\":\n",
    "        print(\"Click Click 🐌\")\n",
    "    case \"lizard\":\n",
    "        print(\"Click Click 🦎\")\n",
    "    case \"chameleon\":\n",
    "        print(\"Click Click 🦎\")\n",
    "    case \"iguana\":\n",
    "        print(\"Click Click 🦎\")\n",
    "    case \"gecko\":\n",
    "        print(\"Click Click 🦎\")\n",
    "    case \"alligator\":\n",
    "        print(\"Click Click 🐊\")\n",
    "    case \"tortoise\":\n",
    "        print(\"Click Click 🐢\")\n",
    "    case \"toad\":\n",
    "        print(\"Click Click 🐸\")\n",
    "    case \"newt\":\n",
    "        print(\"Click Click 🦎\")\n",
    "    case \"salamander\":\n",
    "        print(\"Click Click 🦎\")\n",
    "    case \"axolotl\":\n",
    "        print(\"Click Click 🦎\")\n",
    "    case \"seahorse\":\n",
    "        print(\"Click Click 🐎\")\n",
    "    case _:\n",
    "        print(\"Unknown animal\")\n",
    "    "
   ]
  },
  {
   "cell_type": "markdown",
   "metadata": {},
   "source": [
    "# Write a program to calculate the grade of a student according to the total marks obtained by the student using match-case.\n",
    "* total marks > 450 : A grade\n",
    "* total marks > 350 : B grade\n",
    "* total marks > 250 : C grade\n",
    "* total marks > 150 : D grade\n",
    "* total marks > 50 : E grade\n",
    "* total marks < 50 : F grade"
   ]
  },
  {
   "cell_type": "markdown",
   "metadata": {},
   "source": [
    "# Make a choice game:\n",
    "* Ask the user to choose between rock, paper and scissors.\n",
    "* Take the input from the first user.\n",
    "* Take the input from the second user.\n",
    "* Print the winner according to the following conditions:\n",
    "    * rock > scissors\n",
    "    * scissors > paper\n",
    "    * paper > rock\n",
    "    * If both the users choose the same option, then print \"It's a tie\"."
   ]
  },
  {
   "cell_type": "code",
   "execution_count": 10,
   "metadata": {},
   "outputs": [
    {
     "name": "stdout",
     "output_type": "stream",
     "text": [
      "Welcome to the Rock Paper Scissor Game\n",
      "Enter 1 for Rock\n",
      "Enter 2 for Paper\n",
      "Enter 3 for Scissor\n",
      "Draw\n"
     ]
    }
   ],
   "source": [
    "# make a rock paper scissor game\n",
    "import random\n",
    "\n",
    "print(\"Welcome to the Rock Paper Scissor Game\")\n",
    "print(\"Enter 1 for Rock\")\n",
    "print(\"Enter 2 for Paper\")\n",
    "print(\"Enter 3 for Scissor\")\n",
    "\n",
    "user_choice = int(input(\"Enter your choice: \"))\n",
    "computer_choice = random.randint(1,3)\n",
    "\n",
    "if user_choice == 1:\n",
    "    if computer_choice == 1:\n",
    "        print(\"Draw\")\n",
    "    elif computer_choice == 2:\n",
    "        print(\"Computer won\")\n",
    "    else:\n",
    "        print(\"You won\")\n",
    "elif user_choice == 2:\n",
    "    if computer_choice == 1:\n",
    "        print(\"You won\")\n",
    "    elif computer_choice == 2:\n",
    "        print(\"Draw\")\n",
    "    else:\n",
    "        print(\"Computer won\")\n",
    "elif user_choice == 3:\n",
    "    if computer_choice == 1:\n",
    "        print(\"Computer won\")\n",
    "    elif computer_choice == 2:\n",
    "        print(\"You won\")\n",
    "    else:\n",
    "        print(\"Draw\")\n",
    "else:\n",
    "    print(\"Invalid choice\")"
   ]
  },
  {
   "cell_type": "code",
   "execution_count": 11,
   "metadata": {},
   "outputs": [
    {
     "name": "stdout",
     "output_type": "stream",
     "text": [
      "Welcome to the Rock Paper Scissor Game\n",
      "Enter 1 for Rock\n",
      "Enter 2 for Paper\n",
      "Enter 3 for Scissor\n",
      "User 1 won\n"
     ]
    }
   ],
   "source": [
    "print(\"Welcome to the Rock Paper Scissor Game\")\n",
    "print(\"Enter 1 for Rock\")\n",
    "print(\"Enter 2 for Paper\")\n",
    "print(\"Enter 3 for Scissor\")\n",
    "\n",
    "user_choice_1 = int(input(\"Enter your choice: \"))\n",
    "user_choice_2 = int(input(\"Enter your choice: \"))\n",
    "\n",
    "match user_choice_1, user_choice_2:\n",
    "    case (1,1):\n",
    "        print(\"Draw\")\n",
    "    case (1,2):\n",
    "        print(\"User 2 won\")\n",
    "    case (1,3):\n",
    "        print(\"User 1 won\")\n",
    "    case (2,1):\n",
    "        print(\"User 1 won\")\n",
    "    case (2,2):\n",
    "        print(\"Draw\")\n",
    "    case (2,3):\n",
    "        print(\"User 2 won\")\n",
    "    case (3,1):\n",
    "        print(\"User 2 won\")\n",
    "    case (3,2):\n",
    "        print(\"User 1 won\")\n",
    "    case (3,3):\n",
    "        print(\"Draw\")\n",
    "    case _:\n",
    "        print(\"Invalid choice\")"
   ]
  },
  {
   "cell_type": "code",
   "execution_count": null,
   "metadata": {},
   "outputs": [],
   "source": []
  }
 ],
 "metadata": {
  "kernelspec": {
   "display_name": "base",
   "language": "python",
   "name": "python3"
  },
  "language_info": {
   "codemirror_mode": {
    "name": "ipython",
    "version": 3
   },
   "file_extension": ".py",
   "mimetype": "text/x-python",
   "name": "python",
   "nbconvert_exporter": "python",
   "pygments_lexer": "ipython3",
   "version": "3.10.9"
  },
  "orig_nbformat": 4
 },
 "nbformat": 4,
 "nbformat_minor": 2
}
